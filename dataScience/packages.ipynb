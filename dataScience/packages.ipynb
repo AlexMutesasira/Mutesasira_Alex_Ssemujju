{
 "cells": [
  {
   "cell_type": "code",
   "execution_count": null,
   "id": "7d6501a8",
   "metadata": {},
   "outputs": [],
   "source": [
    "# we have the following packages in python\n",
    "# 1. numpy\n",
    "# 2. pandas\n",
    "# 3. matplotlib\n",
    "# to install any of those packages we use pip install package_name\n",
    "# to import any of those packages we use import package_name\n",
    "# pandas is a python library used for for working with data sets eg csv json xlsx\n",
    "\n",
    "# Matplotlib is used for plotting graphs thats y its is also called a data visualization library\n",
    "\n",
    "# numpy is for numerical python"
   ]
  }
 ],
 "metadata": {
  "language_info": {
   "name": "python"
  }
 },
 "nbformat": 4,
 "nbformat_minor": 5
}
