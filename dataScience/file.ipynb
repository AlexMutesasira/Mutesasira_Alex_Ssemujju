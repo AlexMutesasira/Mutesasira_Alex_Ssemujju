{
 "cells": [
  {
   "cell_type": "code",
   "execution_count": 5,
   "id": "5574d5bf",
   "metadata": {},
   "outputs": [],
   "source": [
    "#Reading and Writing files\n",
    "#Opening a file in a read mode\n",
    "file = open(\"alex.txt\", \"r\") \n",
    "# r is for read mode\n",
    "# this is reading the entire content of the file"
   ]
  },
  {
   "cell_type": "code",
   "execution_count": 6,
   "id": "f68706d7",
   "metadata": {},
   "outputs": [
    {
     "name": "stdout",
     "output_type": "stream",
     "text": [
      "Working with text files Alex\n"
     ]
    }
   ],
   "source": [
    "# Reading the content of the file\n",
    "content = file.read()\n",
    "# printing the content\n",
    "print(content)\n",
    "# closing the file\n",
    "#file.close()"
   ]
  },
  {
   "cell_type": "code",
   "execution_count": 8,
   "id": "d0a4126a",
   "metadata": {},
   "outputs": [],
   "source": [
    "# Writing to a file\n",
    "with open(\"allan.txt\", \"w\") as file:\n",
    "    #writing a string to the file\n",
    "    file.write(\"Welcome to writing files of allan.\\n\")\n",
    "    #writing another string to the file\n",
    "    file.write(\"This is the second line .\\n\")"
   ]
  },
  {
   "cell_type": "code",
   "execution_count": 9,
   "id": "6427c139",
   "metadata": {},
   "outputs": [
    {
     "name": "stdout",
     "output_type": "stream",
     "text": [
      "Welcome to writing files of allan.\n",
      "This is the second line .\n",
      "This is the appended line .\n",
      "\n"
     ]
    }
   ],
   "source": [
    "# Appending to a file \n",
    "with open(\"allan.txt\", \"a\") as file:\n",
    "    # appending a string to the file\n",
    "    file.write(\"This is the appended line .\\n\")\n",
    "    \n",
    "with open(\"allan.txt\", \"r\") as file:\n",
    "    # reading the content of the file\n",
    "    content = file.read()\n",
    "    # printing the content\n",
    "    print(content)"
   ]
  }
 ],
 "metadata": {
  "kernelspec": {
   "display_name": "Python 3",
   "language": "python",
   "name": "python3"
  },
  "language_info": {
   "codemirror_mode": {
    "name": "ipython",
    "version": 3
   },
   "file_extension": ".py",
   "mimetype": "text/x-python",
   "name": "python",
   "nbconvert_exporter": "python",
   "pygments_lexer": "ipython3",
   "version": "3.13.3"
  }
 },
 "nbformat": 4,
 "nbformat_minor": 5
}
