{
 "cells": [
  {
   "cell_type": "code",
   "execution_count": null,
   "id": "59fa11d6",
   "metadata": {},
   "outputs": [],
   "source": [
    "# Data science with python introduction : Data Analysis\n",
    "# What is data science ?\n",
    "# Defining data science\n"
   ]
  },
  {
   "cell_type": "code",
   "execution_count": null,
   "id": "81354a61",
   "metadata": {},
   "outputs": [],
   "source": [
    "# Elements of data science\n",
    "# statistics computer science and domain experts\n",
    "# data collection\n",
    "# Data cleaning\n",
    "# Data Exploration"
   ]
  },
  {
   "cell_type": "code",
   "execution_count": null,
   "id": "ffba4819",
   "metadata": {},
   "outputs": [],
   "source": [
    "# Why data science matters in this era "
   ]
  },
  {
   "cell_type": "code",
   "execution_count": null,
   "id": "a1be3629",
   "metadata": {},
   "outputs": [],
   "source": [
    "# What is the difference between data science , data engineer , Data analyst ?\n",
    "\n"
   ]
  },
  {
   "cell_type": "code",
   "execution_count": null,
   "id": "a4d6c0d6",
   "metadata": {},
   "outputs": [],
   "source": [
    "# tools that a data scientist uses\n",
    "# Tools and skills that a data scientist uses\n",
    "# R, Python, SQL, Tableau, Power BI, Excel"
   ]
  },
  {
   "cell_type": "code",
   "execution_count": null,
   "id": "353f596f",
   "metadata": {},
   "outputs": [],
   "source": [
    "# What are the career paths in data science ?\n",
    "# Data Analyst\n",
    "# Data Scientist\n",
    "# Data Engineer"
   ]
  }
 ],
 "metadata": {
  "language_info": {
   "name": "python"
  }
 },
 "nbformat": 4,
 "nbformat_minor": 5
}
