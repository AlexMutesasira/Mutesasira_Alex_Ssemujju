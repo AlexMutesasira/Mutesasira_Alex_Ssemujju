{
 "cells": [
  {
   "cell_type": "code",
   "execution_count": null,
   "id": "9bf1a941",
   "metadata": {},
   "outputs": [],
   "source": [
    "# Handling CSV files with Python's csv module\n",
    "# What is CSV ?\n",
    "# Comma Separated values\n",
    "# it is for storing data in table format\n",
    "# it is for storing data in a spreadsheet format"
   ]
  },
  {
   "cell_type": "code",
   "execution_count": null,
   "id": "e333a31e",
   "metadata": {},
   "outputs": [],
   "source": [
    "# Read CSV files like a pro without using the inbuilt csv module\n",
    "\n",
    "# pandas\n",
    "# numpy\n"
   ]
  },
  {
   "cell_type": "code",
   "execution_count": null,
   "id": "33ef5137",
   "metadata": {},
   "outputs": [
    {
     "name": "stdout",
     "output_type": "stream",
     "text": [
      "   Duration  Pulse  Maxpulse  Calories\n",
      "0        60    110       130     409.1\n",
      "1        60    117       145     479.0\n",
      "2        60    103       135     340.0\n",
      "3        45    109       175     282.4\n",
      "4        45    117       148     406.0\n"
     ]
    }
   ],
   "source": [
    "import pandas as pd #data science\n",
    "import numpy as np #numerical python\n",
    "\n",
    "# data frame\n",
    "df = pd.read_csv(\"data.csv\")\n",
    "# display the first few rows of the data frame\n",
    "print(df.head())"
   ]
  }
 ],
 "metadata": {
  "kernelspec": {
   "display_name": "Python 3",
   "language": "python",
   "name": "python3"
  },
  "language_info": {
   "codemirror_mode": {
    "name": "ipython",
    "version": 3
   },
   "file_extension": ".py",
   "mimetype": "text/x-python",
   "name": "python",
   "nbconvert_exporter": "python",
   "pygments_lexer": "ipython3",
   "version": "3.13.3"
  }
 },
 "nbformat": 4,
 "nbformat_minor": 5
}
