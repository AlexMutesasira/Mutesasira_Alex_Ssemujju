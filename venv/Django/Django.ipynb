{
 "cells": [
  {
   "cell_type": "code",
   "execution_count": null,
   "id": "59029dea",
   "metadata": {},
   "outputs": [],
   "source": [
    "# Why Django\n",
    "# Ridiculously fast\n",
    "# Reassuringly secure \n",
    "# Excedingly scalable\n",
    "\n",
    "# Databases in Django\n",
    "# SQlite - building it locally\n",
    "# MySQL\n",
    "# PostgreSQL- Production\n",
    "\n",
    "\n",
    "# Parking page or Landing page # Lovable vibe coding prototypes\n",
    "\n",
    "# 1 Create a Virtual Environment \n",
    "# 2 Install Django\n",
    "# 3 Create a Django project. projects-frontend, App-backend , Templates\n",
    "# 4 Test if Django is installed\n",
    "\n",
    "# 5 Create Apps \n",
    "# stores the databases \n",
    "# most of the web apps have a Login Sign up # KYC # Data collection\n",
    "\n",
    "# 6 Create Templates # \n",
    "\n",
    "# 7 Create migrations (Runserver 1-migrations 2-runserver for migrating databases)\n",
    "# python manage.py migrate\n",
    "# python manage.py runserver"
   ]
  }
 ],
 "metadata": {
  "language_info": {
   "name": "python"
  }
 },
 "nbformat": 4,
 "nbformat_minor": 5
}
