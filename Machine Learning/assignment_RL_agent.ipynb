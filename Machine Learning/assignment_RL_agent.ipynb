{
 "cells": [
  {
   "cell_type": "code",
   "execution_count": null,
   "id": "4432f8f6",
   "metadata": {},
   "outputs": [],
   "source": [
    "# Assignment one . Train a RL agent to navigate to cross a road with action right , left right \n",
    "# import necessary libraries\n",
    "import numpy as np\n",
    "import random # module for generating random numbers\n",
    "\n",
    "# Environment setup\n",
    "road_length = 5 # The road will have 5 positions 0,4 our goal is to reach position 4 \n",
    "actions = ['left','right'] # our agent can either take left and right \n",
    "\n",
    "# Q-table initialisation\n",
    "Q = np.zeros((road_length, len(actions))) # core of the Q-learning which initialises the Q-table\n",
    "\n",
    "# Hyperparameters\n",
    "# they control the learning process\n",
    "\n",
    "episodes = 1000 # number of iterations\n",
    "learning_rate = 0.8 # alpha learning rate , it helps the agent to adopt more quickly\n",
    "gama = 0.9 # it will have a high reward\n",
    "epislon = 0.3# helps the agent to discover new paths . or its the exploration rates\n",
    "\n",
    "# Training loop\n",
    "for episode in range(episodes):\n",
    "    state =0 # intial position or starting position\n",
    "    \n",
    "    while state != 4: # goal is position 4\n",
    "        # epsilon greedy action selection\n",
    "        if random.uniform(0,1) < epsilon:\n",
    "            actions = random.randint(0, 1) # explore my random action , greedy action of selecting\n",
    "        else:\n",
    "            action = np.argmax(Q[state]) # greedy action of selecting"
   ]
  }
 ],
 "metadata": {
  "language_info": {
   "name": "python"
  }
 },
 "nbformat": 4,
 "nbformat_minor": 5
}
