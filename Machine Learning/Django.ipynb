{
 "cells": [
  {
   "cell_type": "code",
   "execution_count": null,
   "id": "59029dea",
   "metadata": {},
   "outputs": [],
   "source": [
    "# Why Django\n",
    "# Ridiculously fast\n",
    "# Reassuringly secure \n",
    "# Excedingly scalable\n",
    "\n",
    "# Databases in Django\n",
    "# SQlite - building it locally\n",
    "# MySQL\n",
    "# PostgreSQL- Production\n",
    "\n",
    "\n",
    "# Parking page or Landing page # Lovable vibe coding prototypes"
   ]
  }
 ],
 "metadata": {
  "language_info": {
   "name": "python"
  }
 },
 "nbformat": 4,
 "nbformat_minor": 5
}
