{
 "cells": [
  {
   "cell_type": "code",
   "execution_count": null,
   "id": "0d71fa93",
   "metadata": {},
   "outputs": [],
   "source": [
    "print('I love Data Science it is actually my passion')"
   ]
  }
 ],
 "metadata": {
  "language_info": {
   "name": "python"
  }
 },
 "nbformat": 4,
 "nbformat_minor": 5
}
